{
 "cells": [
  {
   "cell_type": "markdown",
   "metadata": {
    "tags": []
   },
   "source": [
    "# Homework 1 Part 2\n",
    "\n",
    "\n",
    "This is an individual assignment."
   ]
  },
  {
   "cell_type": "markdown",
   "metadata": {},
   "source": [
    "## Description\n",
    "\n",
    "Create or edit this Jupyter Notebook to answer the questions below. Use simulations to answer these questions. An analytical solution can be useful to check if your simulation is correct but analytical solutions alone will not be accepted as a solution to a problem."
   ]
  },
  {
   "cell_type": "code",
   "execution_count": 10,
   "metadata": {},
   "outputs": [],
   "source": [
    "import random\n",
    "import math\n",
    "import numpy as np\n",
    "import numpy.random as npr"
   ]
  },
  {
   "cell_type": "markdown",
   "metadata": {
    "tags": []
   },
   "source": [
    "#### Problem 9\n",
    "\n",
    "Consider repeatedly rolling a fair 4-sided die.\n",
    "\n",
    "1. Create a simulation to compute the probability that the top face will be 4 at least once on four rolls of the die?\n",
    "2. Create a simulation to compute the probability that the top face will be 4 at least once on 20 rolls of the die?\n",
    "3. Create a simulation to compute how many rolls of the die would you have to do to be 90% confident that you would see at least one 4?\n",
    "4. Using the formula you have computed in problem 2 part 4, make a Python function that takes in the target value $p$ and outputs the required number of rolls of an integer. \n",
    "    1. Find the values for $p=0.95$ and $p=0.99$. \n",
    "    2. Use your simulation to verify that the number of rolls you specified is sufficient to achieve $p\\geq 0.95$."
   ]
  },
  {
   "cell_type": "code",
   "execution_count": 14,
   "metadata": {},
   "outputs": [
    {
     "name": "stdout",
     "output_type": "stream",
     "text": [
      "The probability the top face will be 4 at least once is 0.51748\n"
     ]
    }
   ],
   "source": [
    "#1\n",
    "num_sims = 100_000\n",
    "num_rolls = 4\n",
    "event = 0\n",
    "\n",
    "for i in range(num_sims):\n",
    "    for j in range(num_rolls):\n",
    "        die = random.choice(range(0,6))\n",
    "        if(die == 4):\n",
    "            event+=1\n",
    "            break\n",
    "print('The probability the top face will be 4 at least once is', event/num_sims)"
   ]
  },
  {
   "cell_type": "code",
   "execution_count": 15,
   "metadata": {},
   "outputs": [
    {
     "name": "stdout",
     "output_type": "stream",
     "text": [
      "The probability the top face will be 4 at least once is 0.97392\n"
     ]
    }
   ],
   "source": [
    "#2\n",
    "num_sims = 100_000\n",
    "num_rolls = 20\n",
    "event = 0\n",
    "\n",
    "for i in range(num_sims):\n",
    "    for j in range(num_rolls):\n",
    "        die = random.choice(range(0,6))\n",
    "        if(die == 4):\n",
    "            event+=1\n",
    "            break\n",
    "print('The probability the top face will be 4 at least once is', event/num_sims)"
   ]
  },
  {
   "cell_type": "code",
   "execution_count": 6,
   "metadata": {},
   "outputs": [
    {
     "name": "stdout",
     "output_type": "stream",
     "text": [
      "The probability the top face will be 4 at least once is 0.90614\n",
      "The number of rolls to achieve 90% confidence is 13\n"
     ]
    }
   ],
   "source": [
    "#3\n",
    "num_sims = 100_000\n",
    "num_rolls = 13\n",
    "event = 0\n",
    "\n",
    "for i in range(num_sims):\n",
    "    for j in range(num_rolls):\n",
    "        die = random.choice(range(0,6))\n",
    "        if(die == 4):\n",
    "            event+=1\n",
    "            break\n",
    "print('The probability the top face will be 4 at least once is', event/num_sims)\n",
    "print('The number of rolls to achieve 90% confidence is', num_rolls)"
   ]
  },
  {
   "cell_type": "code",
   "execution_count": 21,
   "metadata": {},
   "outputs": [
    {
     "name": "stdout",
     "output_type": "stream",
     "text": [
      "The required number of rolls is 17.0\n",
      "The required number of rolls is 26.0\n",
      "The probability the top face will be 4 at least once is 0.95559\n"
     ]
    }
   ],
   "source": [
    "def findTarget(p = 0.9):\n",
    "    rolls = math.log((1-p), 5/6)\n",
    "    print('The required number of rolls is', np.ceil(rolls))\n",
    "findTarget(0.95)\n",
    "findTarget(0.99)\n",
    "\n",
    "\n",
    "\n",
    "num_sims = 100_000\n",
    "num_rolls = 17\n",
    "event = 0\n",
    "\n",
    "for i in range(num_sims):\n",
    "    for j in range(num_rolls):\n",
    "        die = random.choice(range(0,6))\n",
    "        if(die == 4):\n",
    "            event+=1\n",
    "            break\n",
    "print('The probability the top face will be 4 at least once is', event/num_sims)"
   ]
  },
  {
   "cell_type": "markdown",
   "metadata": {
    "tags": []
   },
   "source": [
    "## Problem 10\n",
    "\n",
    "Create a simulation function where you will roll a fair 6-sided die twice. Use simulation to find out the probability of getting a 4,5, or 6 on the first toss and a 1,2,3 on the second toss. "
   ]
  },
  {
   "cell_type": "code",
   "execution_count": 33,
   "metadata": {},
   "outputs": [
    {
     "name": "stdout",
     "output_type": "stream",
     "text": [
      "Probability of 4,5,6 on first toss and 1,2,3 on second toss 0.11163\n"
     ]
    }
   ],
   "source": [
    "num_sims = 100_000\n",
    "event = 0\n",
    "\n",
    "for i in range(num_sims):\n",
    "    event= event+1 if random.choice(range(0, 6)) > 4 and random.choice(range(0, 6)) < 4 else event\n",
    "\n",
    "print('Probability of 4,5,6 on first toss and 1,2,3 on second toss', event/num_sims)"
   ]
  },
  {
   "cell_type": "markdown",
   "metadata": {
    "tags": []
   },
   "source": [
    "## Problem 11\n",
    "\n",
    "Suppose that you have a bag with 3 coins. One of them is a fair coin, but the others are biased trick coins. When flipped, the three coins come up heads with probability $\\frac{1}{2}$, $\\frac{1}{3}$, and $\\frac{1}{4}$, respectively.\n",
    "\n",
    "Consider the experiment where you pick one coin at random and flip it three times. Let $H_i$ be the event that the coin comes up heads on flip $i$. What is the probability of the outcome $H_1\\cap H_2\\cap \\overline{H_3}$?\n",
    "\n",
    "With small modification in your code, find out the probability of the outcome $H_1\\cap \\overline{H_2} \\cap \\overline{H_3}$.\n",
    "\n",
    "Use simulation to find out the probability."
   ]
  },
  {
   "cell_type": "code",
   "execution_count": 4,
   "metadata": {},
   "outputs": [
    {
     "name": "stdout",
     "output_type": "stream",
     "text": [
      "Probability of first and second flip being heads, and third flip being tails is 0.08104\n"
     ]
    }
   ],
   "source": [
    "num_sims = 100_000\n",
    "event = 0\n",
    "\n",
    "coins = ['fair', 'trick1/3', 'trick1/4']\n",
    "\n",
    "for i in range(num_sims):\n",
    "    coin = random.choice(coins)\n",
    "    if(coin == 'fair'):\n",
    "        S = ['T', 'H']\n",
    "    elif(coin == 'trick1/3'):\n",
    "        S = ['T', 'T', 'H']\n",
    "    else:\n",
    "        S = ['T', 'T', 'T', 'H']\n",
    "    values = random.choices(S, k=3)\n",
    "    if values[0] == 'H':\n",
    "        if values[1] == 'H':\n",
    "            if values[2] == 'T':\n",
    "                event+=1\n",
    "print('Probability of first and second flip being heads, and third flip being tails is', event/num_sims)\n",
    " \n",
    "    "
   ]
  },
  {
   "cell_type": "code",
   "execution_count": 3,
   "metadata": {},
   "outputs": [
    {
     "name": "stdout",
     "output_type": "stream",
     "text": [
      "Probability of first flip being heads and second and third flip being tails is 0.13779\n"
     ]
    }
   ],
   "source": [
    "num_sims = 100_000\n",
    "event = 0\n",
    "\n",
    "coins = ['fair', 'trick1/3', 'trick1/4']\n",
    "\n",
    "for i in range(num_sims):\n",
    "    coin = random.choice(coins)\n",
    "    if(coin == 'fair'):\n",
    "        S = ['T', 'H']\n",
    "    elif(coin == 'trick1/3'):\n",
    "        S = ['T', 'T', 'H']\n",
    "    else:\n",
    "        S = ['T', 'T', 'T', 'H']\n",
    "    values = random.choices(S, k=3)\n",
    "    if values[0] == 'H':\n",
    "        if values[1] == 'T':\n",
    "            if values[2] == 'T':\n",
    "                event+=1\n",
    "print('Probability of first flip being heads and second and third flip being tails is', event/num_sims)\n",
    " \n",
    "    "
   ]
  },
  {
   "cell_type": "markdown",
   "metadata": {},
   "source": [
    "# Submit Your Solutions\n",
    "\n",
    "Confirm that you've successfully completed the assignment.\n",
    "\n",
    "Along with the Notebook, include a PDF of the notebook with your solutions.\n",
    "\n",
    "```add``` and ```commit``` the final version of your work, and ```push``` your PDF file to your GitHub repository.\n",
    "\n",
    "Submit the URL of your GitHub Repository as your assignment submission on Canvas."
   ]
  },
  {
   "cell_type": "code",
   "execution_count": null,
   "metadata": {},
   "outputs": [],
   "source": []
  },
  {
   "cell_type": "code",
   "execution_count": null,
   "metadata": {},
   "outputs": [],
   "source": []
  }
 ],
 "metadata": {
  "kernelspec": {
   "display_name": "Python 3 (ipykernel)",
   "language": "python",
   "name": "python3"
  },
  "language_info": {
   "codemirror_mode": {
    "name": "ipython",
    "version": 3
   },
   "file_extension": ".py",
   "mimetype": "text/x-python",
   "name": "python",
   "nbconvert_exporter": "python",
   "pygments_lexer": "ipython3",
   "version": "3.9.13"
  },
  "latex_envs": {
   "LaTeX_envs_menu_present": true,
   "autoclose": false,
   "autocomplete": true,
   "bibliofile": "biblio.bib",
   "cite_by": "apalike",
   "current_citInitial": 1,
   "eqLabelWithNumbers": true,
   "eqNumInitial": 1,
   "hotkeys": {
    "equation": "Ctrl-E",
    "itemize": "Ctrl-I"
   },
   "labels_anchors": false,
   "latex_user_defs": false,
   "report_style_numbering": false,
   "user_envs_cfg": false
  },
  "varInspector": {
   "cols": {
    "lenName": 16,
    "lenType": 16,
    "lenVar": 40
   },
   "kernels_config": {
    "python": {
     "delete_cmd_postfix": "",
     "delete_cmd_prefix": "del ",
     "library": "var_list.py",
     "varRefreshCmd": "print(var_dic_list())"
    },
    "r": {
     "delete_cmd_postfix": ") ",
     "delete_cmd_prefix": "rm(",
     "library": "var_list.r",
     "varRefreshCmd": "cat(var_dic_list()) "
    }
   },
   "types_to_exclude": [
    "module",
    "function",
    "builtin_function_or_method",
    "instance",
    "_Feature"
   ],
   "window_display": false
  }
 },
 "nbformat": 4,
 "nbformat_minor": 4
}

{
 "cells": [
  {
   "cell_type": "markdown",
   "metadata": {},
   "source": [
    "# Homework 2 Part 2\n",
    "\n",
    "\n",
    "This is an individual assignment."
   ]
  },
  {
   "cell_type": "markdown",
   "metadata": {},
   "source": [
    "## Description\n",
    "\n",
    "Create or edit this Jupyter Notebook to answer the questions below. Use simulations to answer these questions. An analytical solution can be useful to check if your simulation is correct but analytical solutions alone will not be accepted as a solution to a problem."
   ]
  },
  {
   "cell_type": "code",
   "execution_count": 1,
   "metadata": {},
   "outputs": [],
   "source": [
    "import random\n",
    "import numpy as np\n",
    "import numpy.random as npr\n",
    "import matplotlib.pyplot as plt\n",
    "%matplotlib inline\n",
    "plt.style.use('bmh')\n",
    "import itertools\n",
    "from scipy.special import binom"
   ]
  },
  {
   "cell_type": "markdown",
   "metadata": {},
   "source": [
    "## Problem 1\n",
    "\n",
    "Consider the experiment where you pick 3 cards at random from a deck of 52 playing cards (13 cards per suit) **without replacement**, i.e., at each card selection you will not put it back in the deck, and so the number of possible outcomes will change for each new draw.\n",
    "\n",
    "Let $D_i$ denote the event the card is diamonds in the $i$th draw.\n",
    "\n",
    "Build a simulation to compute the following probabilities:\n",
    "\n",
    "1. $P(D_1)$\n",
    "\n",
    "2. $P(D_1 \\cap \\overline{D}_2)$\n",
    "\n",
    "3. $P(D_1 \\cap \\overline{D}_2 \\cap \\overline{D_3})$\n",
    "\n",
    "4. $P(D_3|D_1\\cap \\overline{D}_2)$\n",
    "\n",
    "*Note: to sample from a set **without replacement**, consider use the function ```numpy.random.choice``` by controling the parameter ```replace```*."
   ]
  },
  {
   "cell_type": "code",
   "execution_count": 2,
   "metadata": {},
   "outputs": [
    {
     "name": "stdout",
     "output_type": "stream",
     "text": [
      "1:  0.25174\n",
      "2:  0.19292\n",
      "3:  0.14571\n",
      "4:  0.24471283433547583\n"
     ]
    }
   ],
   "source": [
    "num_sims = 100_000\n",
    "PD1 = 0\n",
    "PD1not2 = 0\n",
    "PD1not2not3 = 0\n",
    "PD3given1not2 = 0\n",
    "\n",
    "for i in range(num_sims):\n",
    "    draws = np.random.choice(52,3,replace=False)\n",
    "    if(draws[0] < 13):\n",
    "        PD1+=1\n",
    "        if(draws[1] >= 13):\n",
    "            PD1not2+=1\n",
    "            if(draws[2] >= 13):\n",
    "                PD1not2not3+=1\n",
    "            else:\n",
    "                PD3given1not2+=1\n",
    "print('1: ', PD1/num_sims)\n",
    "print('2: ', PD1not2/num_sims)\n",
    "print('3: ', PD1not2not3/num_sims)\n",
    "print('4: ', PD3given1not2/PD1not2)\n",
    "    \n",
    "    "
   ]
  },
  {
   "cell_type": "markdown",
   "metadata": {},
   "source": [
    "## Problem 2\n",
    "\n",
    "Suppose that you have 6 coins: 1 fair coins and 5 unfair coins. When flipped, the coins flip heads with probability 0.5, 0.6, 0.8, 0.2, 0.1 and 0.3, respectively. Consider the experiment where you choose a coin at random and flip it twice. Let $E$ be the event that 2 heads were observed. Compute $P(\\text{fair coin}|E)$.\n",
    "\n",
    "*Note: to encode specific probabilily of flipping heads, you may consider using the function ```numpy.random.choice``` by controlling the parameter ```p```.*"
   ]
  },
  {
   "cell_type": "code",
   "execution_count": 3,
   "metadata": {},
   "outputs": [
    {
     "name": "stdout",
     "output_type": "stream",
     "text": [
      "Probability of 2 heads is  0.22975\n"
     ]
    }
   ],
   "source": [
    "num_sims = 100_000\n",
    "\n",
    "head2 = 0\n",
    "S = ['H', 'T']\n",
    "P = [0.5, 0.6, 0.8, 0.2, 0.1, 0.3]\n",
    "\n",
    "for i in range(num_sims):\n",
    "    prob = np.random.choice(P)\n",
    "    probs = [prob, 1-prob]\n",
    "    flips = np.random.choice(S, 2, p=probs)\n",
    "    if flips[0] == 'H'and flips[1] == 'H':\n",
    "        head2+=1\n",
    "\n",
    "print('Probability of 2 heads is ', head2/num_sims)"
   ]
  },
  {
   "cell_type": "markdown",
   "metadata": {},
   "source": [
    "# Submit Your Solutions\n",
    "\n",
    "Confirm that you've successfully completed the assignment.\n",
    "\n",
    "Along with the Notebook, include a PDF of the notebook with your solutions."
   ]
  }
 ],
 "metadata": {
  "kernelspec": {
   "display_name": "Python 3 (ipykernel)",
   "language": "python",
   "name": "python3"
  },
  "language_info": {
   "codemirror_mode": {
    "name": "ipython",
    "version": 3
   },
   "file_extension": ".py",
   "mimetype": "text/x-python",
   "name": "python",
   "nbconvert_exporter": "python",
   "pygments_lexer": "ipython3",
   "version": "3.9.13"
  },
  "latex_envs": {
   "LaTeX_envs_menu_present": true,
   "autoclose": false,
   "autocomplete": true,
   "bibliofile": "biblio.bib",
   "cite_by": "apalike",
   "current_citInitial": 1,
   "eqLabelWithNumbers": true,
   "eqNumInitial": 1,
   "hotkeys": {
    "equation": "Ctrl-E",
    "itemize": "Ctrl-I"
   },
   "labels_anchors": false,
   "latex_user_defs": false,
   "report_style_numbering": false,
   "user_envs_cfg": false
  },
  "varInspector": {
   "cols": {
    "lenName": 16,
    "lenType": 16,
    "lenVar": 40
   },
   "kernels_config": {
    "python": {
     "delete_cmd_postfix": "",
     "delete_cmd_prefix": "del ",
     "library": "var_list.py",
     "varRefreshCmd": "print(var_dic_list())"
    },
    "r": {
     "delete_cmd_postfix": ") ",
     "delete_cmd_prefix": "rm(",
     "library": "var_list.r",
     "varRefreshCmd": "cat(var_dic_list()) "
    }
   },
   "types_to_exclude": [
    "module",
    "function",
    "builtin_function_or_method",
    "instance",
    "_Feature"
   ],
   "window_display": false
  }
 },
 "nbformat": 4,
 "nbformat_minor": 4
}

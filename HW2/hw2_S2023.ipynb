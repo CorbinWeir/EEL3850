{
 "cells": [
  {
   "cell_type": "markdown",
   "metadata": {},
   "source": [
    "# Homework 2\n",
    "\n",
    "This is an individual assignment.\n",
    "Related knowledge:\n",
    "- Bayes' theorem\n",
    "- Combinatorics\n",
    "- Statistical independence"
   ]
  },
  {
   "cell_type": "markdown",
   "metadata": {},
   "source": [
    "## Description\n",
    "\n",
    "Provide analytical solutions to the problems below and upload your answers as a PDF. (There is no need to type your answers -- just scan your handwritten solutions with an app like [CamScanner](https://www.camscanner.com/user/download) or [Scannable](https://apps.apple.com/us/app/evernote-scannable/id883338188).)"
   ]
  },
  {
   "cell_type": "code",
   "execution_count": null,
   "metadata": {},
   "outputs": [],
   "source": []
  },
  {
   "cell_type": "markdown",
   "metadata": {},
   "source": [
    "## Problem 1\n",
    "\n",
    "A computer manufacturer uses chips from three sources.  Chips from sources A, B, and C are defective with probabilities 0.002, 0.02, and 0.001, respectively. Let $P_A$, $P_B$, and $P_C$ denote the probabilities that a chip is from source $A$, $B$, or $C$, respectively. \n",
    "\n",
    "1. If the computer manufacturer uses and equal number of chips from each source, what is the probability that a randomly chosen chip is defective? (I.e., if you do not know what manufacturer it came from.)\n",
    "\n",
    "2. If the computer manufacturer uses and equal number of chips from each source and a randomly chosen chip is found to be defective, find the (conditional) probability that it came from each source.\n",
    "\n",
    "3. If the computer manufacturer gets 50\\% of its chips from source $A$, 10\\% of its chips from source $B$, and 40\\% of its chips from source $C$, what is the probability that a randomly chosen chip is defective?\n",
    "\n",
    "4. If the computer manufacturer gets 50\\% of its chips from source $A$, 10\\% of its chips from source $B$, and 40\\% of its chips from source $C$, and a randomly chosen chip is found to be defective, find the (conditional) probability that it came from each source.\n",
    "\n",
    "\n"
   ]
  },
  {
   "cell_type": "markdown",
   "metadata": {},
   "source": [
    "## Problem 2\n",
    "\n",
    "A batch of one hundred items is inspected by testing four randomly selected items.\n",
    "If one of the four is defective, the batch is rejected. What is the probability that the batch is\n",
    "accepted if it contains five defectives?"
   ]
  },
  {
   "cell_type": "markdown",
   "metadata": {},
   "source": [
    "## Problem 3\n",
    "\n",
    "Prostate cancer is the most common type of cancer found in  males. As an indicator of whether a male has prostate cancer,   doctors often perform a test that measures the level of the PSA (prostate specific antigen) protein that is produced only by the prostate gland.  Although PSA levels are indicative of cancer, the test is notoriously unreliable.  Indeed, the probability that a noncancerous man will have an elevated PSA level is approximately 0.135, with this probability increasing to approximately 0.268 if the man does have cancer.\n",
    "\n",
    "1. If, based on other factors, a physician is 70 percent certain that a male has prostate cancer, what is the conditional probability that he has the cancer given that the test indicated an elevated PSA level?\n",
    "\n",
    "2. If, based on other factors, a physician is 70 percent certain that a male has prostate cancer, what is the conditional probability that he has the cancer given that the test **did not** indicate an elevated PSA level?\n",
    "\n",
    "3. If, based on other factors, a physician is 30 percent certain that a male has prostate cancer, what is the conditional probability that he has the cancer given that the test indicated an elevated PSA level?\n",
    "\n",
    "4. If, based on other factors, a physician is 30 percent certain that a male has prostate cancer, what is the conditional probability that he has the cancer given that the test **did not** indicate an elevated PSA level?\n",
    "\n",
    "Hint: the physician's prediction about the probability that a male has prostate cancer can be used as a prior in Bayes inference."
   ]
  },
  {
   "cell_type": "markdown",
   "metadata": {},
   "source": [
    "## Problem 4\n",
    "\n",
    "Consider two roommates, Charlie and David, living in the same apartment, where they share the living room. They decide to combine all of their Spring 2021 textbooks. There are 3 books on Probability and Statistics, 2 books on Linear Algebra, 2 books on Machine Learning and 3 culinary books.\n",
    "\n",
    "Their friend will select 4 books at random (with her eyes closed). They decide that if among these 4 books there are: 2 on Probability and Statistics, 1 on Linear Algebra and 1 on Culinary, then Charlie will have to clean the shared living room this week.\n",
    "\n",
    "1. How many ways are there to select 4 books?\n",
    "\n",
    "2. What is the probability that Charlie will clean the living room this week?"
   ]
  },
  {
   "cell_type": "markdown",
   "metadata": {},
   "source": [
    "# Submit Your Solutions\n",
    "\n",
    "Confirm that you've successfully completed the assignment.\n",
    "\n",
    "Scan your handwritten solutions and create a single PDF file with your solutions.\n",
    "\n",
    "```add``` and ```commit``` the final version of your work, and ```push``` your PDF file to your GitHub repository.\n",
    "\n",
    "Submit the URL of your GitHub Repository as your assignment submission on Canvas."
   ]
  }
 ],
 "metadata": {
  "kernelspec": {
   "display_name": "Python 3 (ipykernel)",
   "language": "python",
   "name": "python3"
  },
  "language_info": {
   "codemirror_mode": {
    "name": "ipython",
    "version": 3
   },
   "file_extension": ".py",
   "mimetype": "text/x-python",
   "name": "python",
   "nbconvert_exporter": "python",
   "pygments_lexer": "ipython3",
   "version": "3.9.13"
  },
  "latex_envs": {
   "LaTeX_envs_menu_present": true,
   "autoclose": false,
   "autocomplete": true,
   "bibliofile": "biblio.bib",
   "cite_by": "apalike",
   "current_citInitial": 1,
   "eqLabelWithNumbers": true,
   "eqNumInitial": 1,
   "hotkeys": {
    "equation": "Ctrl-E",
    "itemize": "Ctrl-I"
   },
   "labels_anchors": false,
   "latex_user_defs": false,
   "report_style_numbering": false,
   "user_envs_cfg": false
  },
  "varInspector": {
   "cols": {
    "lenName": 16,
    "lenType": 16,
    "lenVar": 40
   },
   "kernels_config": {
    "python": {
     "delete_cmd_postfix": "",
     "delete_cmd_prefix": "del ",
     "library": "var_list.py",
     "varRefreshCmd": "print(var_dic_list())"
    },
    "r": {
     "delete_cmd_postfix": ") ",
     "delete_cmd_prefix": "rm(",
     "library": "var_list.r",
     "varRefreshCmd": "cat(var_dic_list()) "
    }
   },
   "types_to_exclude": [
    "module",
    "function",
    "builtin_function_or_method",
    "instance",
    "_Feature"
   ],
   "window_display": false
  }
 },
 "nbformat": 4,
 "nbformat_minor": 4
}

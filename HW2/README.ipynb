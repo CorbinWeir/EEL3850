{
 "cells": [
  {
   "cell_type": "markdown",
   "id": "0d53ebe4",
   "metadata": {},
   "source": [
    "# Homework 1\n",
    "\n",
    "\n",
    "All homework assignments have 2 parts: analytical (part 1) and Python simulations (part 2).\n",
    "\n",
    "All questions for part 1 can be found in the Notebook file \"hw1_S2023_pt1.ipynb\".\n",
    "\n",
    "All questions for part 2 can be found in the Notebook file \"hw1_S2023_pt2.ipynb\".\n",
    "\n",
    "\n",
    "## Part 1 - Analytical\n",
    "\n",
    "All questions in part 1 must be solved on paper. There is no need to type your answers with $\\LaTeX$, just scan your handwritten solutions with an app like [CamScanner](https://www.camscanner.com/user/download) and submit.\n",
    "\n",
    "If you would like to include your solutions into the python notebook (Not Required), you can include images in the notebook file using the following method: \n",
    "\n",
    "Suppose you create a folder within your repository called \"Figures\" where you will include all of your handwritten scans (Figures/Q1.png and Figures/Q2.jpg). You can then import your images scans inside your Notebook. First, using a code cell, load the the function ```Image``` from ```IPython.display```.\n",
    "\n",
    "````python\n",
    "from IPython.display import Image\n",
    "````\n",
    "\n",
    "Next, load your handwritten solutions:\n",
    "\n",
    "````python\n",
    "Image(Figures/Q1.png, width=700)\n",
    "````\n",
    "\n",
    "````python\n",
    "Image(Figures/Q2.jpg, width=500)\n",
    "````\n",
    "\n",
    "Remember to submit the zip package including the \"Figures\" folder and the notebook file.\n",
    "\n",
    "\n",
    "## Part 2 - Simulations\n",
    "\n",
    "All questions in part 2 must be solved using Python simulations. Please make sure your code is prepared with care, it contains comments when needed, and it is running. Utilize markdown cells to document your observations and answer questions based on your simulation results. \n",
    "\n",
    "Once you complete your answers, make sure all the code is running without errors. I recommend to restart the kernel and run all cells: click on ```Kernel > Restart & Run All```.\n",
    "\n",
    "When printing your Jupyter notebook as a PDF, please review it and make sure all code is readable. \n",
    "\n",
    "\n",
    "## Rubric\n",
    "\n",
    "The complete rubric for this assignment will be posted with the solution after the submission."
   ]
  }
 ],
 "metadata": {
  "kernelspec": {
   "display_name": "Python 3 (ipykernel)",
   "language": "python",
   "name": "python3"
  },
  "language_info": {
   "codemirror_mode": {
    "name": "ipython",
    "version": 3
   },
   "file_extension": ".py",
   "mimetype": "text/x-python",
   "name": "python",
   "nbconvert_exporter": "python",
   "pygments_lexer": "ipython3",
   "version": "3.9.13"
  }
 },
 "nbformat": 4,
 "nbformat_minor": 5
}
